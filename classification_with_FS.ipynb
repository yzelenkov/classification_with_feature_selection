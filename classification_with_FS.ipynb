{
 "cells": [
  {
   "cell_type": "markdown",
   "metadata": {},
   "source": [
    "It is a simple tutorial on how to train classifiers with a selection of an optimal set of features. All necessary code is implemented in <B>clfga</B> library\n",
    "\n",
    "See details in the paper\n",
    "\n",
    "Zelenkov, Y., Fedorova, E., & Chekrizov, D. (2017). Two-step classification method based on genetic algorithm for bankruptcy forecasting. <I>Expert Systems with Applications</I>, 88, 393-401.\n",
    "\n",
    "<B>Note!</B> If you find this code useful and will use it for preparing your publication, please cite the paper above."
   ]
  },
  {
   "cell_type": "code",
   "execution_count": 3,
   "metadata": {},
   "outputs": [],
   "source": [
    "%matplotlib inline\n",
    "import clfga as cga\n",
    "import numpy as np\n",
    "import matplotlib.pyplot as plt\n",
    "import sklearn.model_selection as model_selection\n",
    "from sklearn.datasets import make_classification\n",
    "from sklearn import preprocessing\n",
    "from time import time\n",
    "\n",
    "import warnings\n",
    "warnings.filterwarnings('ignore')"
   ]
  },
  {
   "cell_type": "code",
   "execution_count": 4,
   "metadata": {},
   "outputs": [
    {
     "name": "stdout",
     "output_type": "stream",
     "text": [
      "(500, 20) (500,)\n",
      "(400, 20) (400,)\n",
      "(100, 20) (100,)\n"
     ]
    }
   ],
   "source": [
    "# Create a classification problem\n",
    "number_of_features = 20\n",
    "\n",
    "X,y = make_classification(n_samples = 500, n_features = number_of_features, n_informative = 5, n_redundant = 5, n_repeated = 2)\n",
    "print(X.shape, y.shape)\n",
    "\n",
    "# Normilize \n",
    "\n",
    "max_abs_scaler = preprocessing.MaxAbsScaler()\n",
    "X = max_abs_scaler.fit_transform(X)\n",
    "\n",
    "# Divide the training and test datasets\n",
    "X_train, X_test, y_train, y_test = model_selection.train_test_split(X, y, test_size = 0.2, random_state = 0)\n",
    "print(X_train.shape, y_train.shape)\n",
    "print(X_test.shape, y_test.shape)"
   ]
  },
  {
   "cell_type": "markdown",
   "metadata": {},
   "source": [
    "Here we use the classifiers implemented in learn the <B>skleran</B> library. The correspondence of aliases to real calls can be seen in the function <I>calc_fitness</I> in <I>clfga</I>.\n",
    "\n",
    "I've realized the calls of base classifiers directly in <I>clfga</I> library, so to call a particular classifier you should only point its alis as in <I>clf_set</I> below. If it is not convenient, you should modify method <I>calc_fitness</I> of <I>Classifier</I> object."
   ]
  },
  {
   "cell_type": "code",
   "execution_count": 5,
   "metadata": {},
   "outputs": [],
   "source": [
    "# Create set of classifiers\n",
    "\n",
    "clf_set = ('knn','lr','nb', 'dt', 'svm','lda','qda') # 'rf','et','mlp' - other possible classiefiers"
   ]
  },
  {
   "cell_type": "markdown",
   "metadata": {},
   "source": [
    "Function <I>EvolveClf</I>, that realized in library <I>clfga</I>, trains classifier selecting optimal set of features using genetic algorithm\n",
    "\n",
    "Information that is printed during training:\n",
    " - alias of classifier\n",
    " - start - accuracy on full set of features\n",
    " - fin - accuracy after selection optimal features (variation computed during cross validation)\n",
    " - features - number of selected features\n",
    " - pre/rec - precision / recall on dataset with selected features\n",
    " - (time of training)"
   ]
  },
  {
   "cell_type": "code",
   "execution_count": 6,
   "metadata": {},
   "outputs": [
    {
     "name": "stdout",
     "output_type": "stream",
     "text": [
      "knn: accuracy start = 0.762 fin = 0.892 (+/- 0.033) features =  9 prec/rec = 0.924/0.854 (48.5 sec)\n",
      " lr: accuracy start = 0.765 fin = 0.775 (+/- 0.023) features = 10 prec/rec = 0.794/0.744 (43.7 sec)\n",
      " nb: accuracy start = 0.795 fin = 0.825 (+/- 0.071) features = 14 prec/rec = 0.816/0.844 (33.9 sec)\n",
      " dt: accuracy start = 0.820 fin = 0.855 (+/- 0.073) features =  9 prec/rec = 0.852/0.859 (30.7 sec)\n",
      "svm: accuracy start = 0.765 fin = 0.790 (+/- 0.073) features =  9 prec/rec = 0.786/0.799 (51.6 sec)\n",
      "lda: accuracy start = 0.765 fin = 0.780 (+/- 0.050) features = 16 prec/rec = 0.775/0.799 (40.3 sec)\n",
      "qda: accuracy start = 0.553 fin = 0.832 (+/- 0.072) features =  7 prec/rec = 0.805/0.879 (33.9 sec)\n"
     ]
    }
   ],
   "source": [
    "# Train classifiers with feature selection\n",
    "\n",
    "pop_size = 50\n",
    "generations = 50\n",
    "prob_of_crossover = 0.5\n",
    "\n",
    "fitness = []\n",
    "setOfClf = []\n",
    "\n",
    "for clf_type in clf_set:\n",
    "    start = time()\n",
    "    fitness_story, bi = cga.EvolveClf (clf_type,number_of_features,pop_size,generations,prob_of_crossover,X_train,y_train)\n",
    "    end = time()\n",
    "    print('%3s: accuracy start = %5.3f fin = %5.3f (+/- %5.3f) features = %2d prec/rec = %5.3f/%5.3f (%4.1f sec)' \n",
    "            %(clf_type,fitness_story[0],bi.accuracy,bi.std * 2,bi.n_features,bi.precision,bi.recall,end-start))\n",
    "    fitness.append(fitness_story)\n",
    "    setOfClf.append(bi)"
   ]
  },
  {
   "cell_type": "code",
   "execution_count": 7,
   "metadata": {},
   "outputs": [
    {
     "data": {
      "text/plain": [
       "Text(0,0.5,'accuracy')"
      ]
     },
     "execution_count": 7,
     "metadata": {},
     "output_type": "execute_result"
    },
    {
     "data": {
      "image/png": "[encoded data removed]",
      "text/plain": [
       "<Figure size 432x288 with 1 Axes>"
      ]
     },
     "metadata": {},
     "output_type": "display_data"
    }
   ],
   "source": [
    "# Now we can plot the story of training \n",
    "\n",
    "for i in range(0,len(fitness)):\n",
    "    plt.plot(fitness[i],label= clf_set[i])\n",
    "plt.legend(loc = \"lower right\")\n",
    "plt.xlabel('generations')\n",
    "plt.ylabel('accuracy')"
   ]
  },
  {
   "cell_type": "code",
   "execution_count": 8,
   "metadata": {},
   "outputs": [
    {
     "name": "stdout",
     "output_type": "stream",
     "text": [
      "Accuracy of prediction on test sample:\n",
      "     acc   pre   rec\n",
      "knn: 0.920 0.978 0.865\n",
      " lr: 0.770 0.822 0.712\n",
      " nb: 0.830 0.857 0.808\n",
      " dt: 0.840 0.875 0.808\n",
      "svm: 0.780 0.826 0.731\n",
      "lda: 0.740 0.771 0.712\n",
      "qda: 0.790 0.816 0.769\n"
     ]
    }
   ],
   "source": [
    "# Let check quality on test dataset\n",
    "\n",
    "from sklearn.metrics import accuracy_score,precision_score,recall_score\n",
    "print('Accuracy of prediction on test sample:')\n",
    "print('     acc   pre   rec')\n",
    "for clf in setOfClf:\n",
    "    X = np.copy(X_test)\n",
    "    y = np.copy(y_test)\n",
    "    for i in range(0,len(clf.genome)):\n",
    "        if clf.genome[len(clf.genome)-1-i] == 0:\n",
    "            X = np.delete(X,len(clf.genome)-1-i,1)\n",
    "    p = clf.clf.predict(X)\n",
    "    print('%3s: %5.3f %5.3f %5.3f' %(clf.type,accuracy_score(y,p),precision_score(y,p),recall_score(y,p)))"
   ]
  },
  {
   "cell_type": "code",
   "execution_count": 9,
   "metadata": {},
   "outputs": [
    {
     "name": "stdout",
     "output_type": "stream",
     "text": [
      "feature knn lr  nb  dt  svm lda qda Total\n",
      "f_0       1   1   0   1   0   1   0   4\n",
      "f_1       1   0   0   0   0   1   0   2\n",
      "f_2       1   0   1   0   1   1   0   4\n",
      "f_3       0   0   1   1   0   1   0   3\n",
      "f_4       0   0   0   0   0   0   0   0\n",
      "f_5       1   1   1   0   0   1   1   5\n",
      "f_6       1   1   1   0   1   0   0   4\n",
      "f_7       0   0   1   1   0   0   1   3\n",
      "f_8       1   1   1   1   1   1   0   6\n",
      "f_9       0   1   1   0   1   1   0   4\n",
      "f_10      1   0   1   1   0   1   1   5\n",
      "f_11      0   1   0   0   1   1   1   4\n",
      "f_12      0   1   0   0   0   1   0   2\n",
      "f_13      0   0   0   1   0   0   1   2\n",
      "f_14      0   0   1   0   1   1   0   3\n",
      "f_15      0   1   1   0   1   1   0   4\n",
      "f_16      1   0   1   1   0   1   0   4\n",
      "f_17      1   1   1   1   1   1   1   7\n",
      "f_18      0   0   1   1   0   1   1   4\n",
      "f_19      0   1   1   0   1   1   0   4\n"
     ]
    }
   ],
   "source": [
    "# What features are selected?\n",
    "\n",
    "feature_names = []\n",
    "for i in range(0,number_of_features):\n",
    "    feature_names.append('f_'+str(i))\n",
    "\n",
    "s = \"feature\"\n",
    "for i in range(0,len(clf_set)):\n",
    "    s += \" \" + '{:3s}'.format(clf_set[i])\n",
    "s = s + ' Total'\n",
    "print(s)\n",
    "for i in range(0,number_of_features):\n",
    "    s = '{:4s}'.format(feature_names[i]) + '   '\n",
    "    k = 0\n",
    "    for c in setOfClf:\n",
    "        k = k + c.genome[i]\n",
    "        s = s + '   ' + str(c.genome[i])\n",
    "    s = s + '   '+ str(k)\n",
    "    print(s)"
   ]
  },
  {
   "cell_type": "code",
   "execution_count": null,
   "metadata": {},
   "outputs": [],
   "source": []
  }
 ],
 "metadata": {
  "kernelspec": {
   "display_name": "Python 3",
   "language": "python",
   "name": "python3"
  },
  "language_info": {
   "codemirror_mode": {
    "name": "ipython",
    "version": 3
   },
   "file_extension": ".py",
   "mimetype": "text/x-python",
   "name": "python",
   "nbconvert_exporter": "python",
   "pygments_lexer": "ipython3",
   "version": "3.6.5"
  }
 },
 "nbformat": 4,
 "nbformat_minor": 2
}
